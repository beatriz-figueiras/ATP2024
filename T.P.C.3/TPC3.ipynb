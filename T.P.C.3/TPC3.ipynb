{
 "cells": [
  {
   "cell_type": "markdown",
   "metadata": {},
   "source": [
    "# Jogo dos 21 Fósforos"
   ]
  },
  {
   "cell_type": "code",
   "execution_count": 11,
   "metadata": {},
   "outputs": [
    {
     "name": "stdout",
     "output_type": "stream",
     "text": [
      "Bem-vind@! Vamos jogar ao 'Jogo dos 21 fósfors'?\n",
      "Escolhe quem começa primeiro:\n",
      "\n",
      "Existem 21 fósforos em jogo.\n",
      "O computador tira 2 fósforos.\n",
      "\n",
      "Existem 19 fósforos em jogo.\n",
      "Tu tiraste 4 fósforos.\n",
      "\n",
      "Existem 15 fósforos em jogo.\n",
      "O computador tira 4 fósforos.\n",
      "\n",
      "Existem 11 fósforos em jogo.\n",
      "Tu tiraste 4 fósforos.\n",
      "\n",
      "Existem 7 fósforos em jogo.\n",
      "O computador tira 1 fósforos.\n",
      "\n",
      "Existem 6 fósforos em jogo.\n",
      "Tu tiraste 2 fósforos.\n",
      "\n",
      "Existem 4 fósforos em jogo.\n",
      "O computador tira 3 fósforos.\n",
      "\n",
      "Existem 1 fósforos em jogo.\n",
      "Tu tiraste 1 fósforos.\n",
      "Tu tiraste o último fósforo. Infelizmente, perdeste.\n"
     ]
    }
   ],
   "source": [
    "import random\n",
    "\n",
    "def jogadaPC(fosforos):\n",
    "    jogada = (fosforos - 1) % 5\n",
    "    if jogada == 0:\n",
    "        jogada = random.randint(1,4)\n",
    "    print(f\"O computador tira {jogada} fósforos.\")\n",
    "    return jogada\n",
    "\n",
    "def jogadaJogador(fosforos):\n",
    "    jogada = 0 \n",
    "    while jogada not in [1, 2, 3, 4]:\n",
    "        jogada = int(input(\"Escolha de 1 a 4 quantos fósforos quer tirar.\"))\n",
    "        \n",
    "        if jogada not in [1, 2, 3, 4]:\n",
    "            print(\"Jogada inválida. Escolha de 1 a 4 quantos fósforos quer tirar.\")\n",
    "        else:\n",
    "            print(f\"Tu tiraste {jogada} fósforos.\")    \n",
    "    return jogada\n",
    "\n",
    "def Jogadorprimeiro():\n",
    "    fosforos = 21\n",
    "    while fosforos > 0:\n",
    "        print(f\"\\nExistem {fosforos} fósforos em jogo.\")\n",
    "        fosforos = fosforos - jogadaJogador(fosforos)\n",
    "        if fosforos == 0:\n",
    "            print(\"Tu tiraste o último fósforo. Infelizmente, perdeste.\")\n",
    "            return \n",
    "        print(f\"\\nExistem {fosforos} fósforos em jogo.\")\n",
    "        fosforos = fosforos - jogadaPC(fosforos)\n",
    "        if fosforos == 0:\n",
    "            print(\"O computador tirou o último fósforos. Parabéns, ganhaste.\")\n",
    "            return\n",
    "\n",
    "def PCprimeiro():\n",
    "    fosforos = 21 \n",
    "    while fosforos > 0:\n",
    "        print(f\"\\nExistem {fosforos} fósforos em jogo.\")\n",
    "        fosforos = fosforos - jogadaPC(fosforos)\n",
    "        if fosforos == 0:\n",
    "            print(\"O computador tirou o último fósforo. Parabéns, ganhaste.\")\n",
    "            return\n",
    "        print(f\"\\nExistem {fosforos} fósforos em jogo.\")\n",
    "        fosforos = fosforos - jogadaJogador(fosforos)\n",
    "        if fosforos == 0:\n",
    "            print(\"Tu tiraste o último fósforo. Infelizmente, perdeste.\")\n",
    "            return\n",
    "\n",
    "\n",
    "        \n",
    "\n",
    "def jogo():\n",
    "    print(\"Bem-vind@! Vamos jogar ao 'Jogo dos 21 fósfors'?\")\n",
    "    print(\"Escolhe quem começa primeiro:\")\n",
    "    \n",
    "    escolha = input(\"Tu(1) ou Computador(2)\")\n",
    "\n",
    "    if escolha == \"1\":\n",
    "        Jogadorprimeiro()\n",
    "    elif escolha == \"2\":\n",
    "        PCprimeiro()\n",
    "    else:\n",
    "        print(\"Escolha inválida. Por favor, tente novamente.\")\n",
    "\n",
    "jogo()"
   ]
  }
 ],
 "metadata": {
  "kernelspec": {
   "display_name": "Python 3",
   "language": "python",
   "name": "python3"
  },
  "language_info": {
   "codemirror_mode": {
    "name": "ipython",
    "version": 3
   },
   "file_extension": ".py",
   "mimetype": "text/x-python",
   "name": "python",
   "nbconvert_exporter": "python",
   "pygments_lexer": "ipython3",
   "version": "3.12.7"
  }
 },
 "nbformat": 4,
 "nbformat_minor": 2
}
