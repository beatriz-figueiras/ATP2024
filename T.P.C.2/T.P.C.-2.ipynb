{
 "cells": [
  {
   "cell_type": "markdown",
   "metadata": {},
   "source": [
    "# T.P.C.-2\n",
    "## \"Adivinha o número\""
   ]
  },
  {
   "cell_type": "code",
   "execution_count": 3,
   "metadata": {},
   "outputs": [
    {
     "name": "stdout",
     "output_type": "stream",
     "text": [
      "Olá jogador! O 'Adivinha o número' tem duas modalidades:\n",
      "1 - O computador adivinha o número que estás a pensar\n",
      "2 - Tu adivinhas o número que o computador está a pensar\n",
      "Saiu\n"
     ]
    }
   ],
   "source": [
    "import random\n",
    "\n",
    "def computadoradivinha():\n",
    "    print(\"Escolhe um número entre 0 e 100\")\n",
    "\n",
    "    i = 0\n",
    "    m = 0\n",
    "    M = 100\n",
    "    acertou = False  \n",
    "\n",
    "    while not acertou:\n",
    "        i = i + 1\n",
    "        \n",
    "        palpite = (m + M)//2\n",
    "        print(f\"O palpite do computador é {palpite}\")\n",
    "        \n",
    "        resposta = input(\"(acertou/maior/menor)\").strip()\n",
    "\n",
    "        if resposta == \"acertou\":\n",
    "            print(f\"O teu número era {palpite} e o computador acertou com {i} tentativas.\")\n",
    "            acertou = True\n",
    "        elif resposta == \"maior\":\n",
    "            m = palpite + 1\n",
    "        elif resposta == \"menor\":\n",
    "            M = palpite - 1\n",
    "        else:\n",
    "            print(\"Resposta inválida!\")\n",
    "\n",
    "def jogadoradivinha():\n",
    "    num = random.randint(0,100)\n",
    "    print(\"O computador escolhe um número entre 0 e 100.\")\n",
    "    \n",
    "    j = 0\n",
    "    acertou = False\n",
    "\n",
    "    while not acertou:\n",
    "        j = j + 1\n",
    "\n",
    "        palpite = int(input(\"Escreve o teu palpite:\"))\n",
    "        print(f\"O teu palpite é {palpite}\")\n",
    "\n",
    "        if palpite == num:\n",
    "            print(f\"Parabéns! Acertaste que o número era {num} com {j} tentativas.\")\n",
    "            acertou = True\n",
    "        elif palpite < num:\n",
    "            print(\"O número do computador é maior.\")\n",
    "        elif palpite > num:\n",
    "            print(\"O número do computador é menor.\")\n",
    "    \n",
    "def modalidade():\n",
    "    print(\"Olá jogador! O 'Adivinha o número' tem duas modalidades:\")\n",
    "    print(\"1 - O computador adivinha o número que estás a pensar\")\n",
    "    print(\"2 - Tu adivinhas o número que o computador está a pensar\")\n",
    "\n",
    "    acabou = False\n",
    "    while not acabou:\n",
    "        escolha = input(\"Escolhe uma modalidade:(1 ou 2, ou sair).\").strip()\n",
    "        if escolha == \"1\":\n",
    "            computadoradivinha()\n",
    "        elif escolha == \"2\":\n",
    "            jogadoradivinha()\n",
    "        elif escolha.strip().lower() == \"sair\":\n",
    "            acabou = True\n",
    "        else:\n",
    "            print(\"Escolha errada inválida. Por favor, tente novamente.\")\n",
    "    return print(\"Saiu\")\n",
    "modalidade()\n"
   ]
  }
 ],
 "metadata": {
  "kernelspec": {
   "display_name": "Python 3",
   "language": "python",
   "name": "python3"
  },
  "language_info": {
   "codemirror_mode": {
    "name": "ipython",
    "version": 3
   },
   "file_extension": ".py",
   "mimetype": "text/x-python",
   "name": "python",
   "nbconvert_exporter": "python",
   "pygments_lexer": "ipython3",
   "version": "3.12.6"
  }
 },
 "nbformat": 4,
 "nbformat_minor": 2
}
